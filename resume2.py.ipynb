{
 "cells": [
  {
   "cell_type": "code",
   "execution_count": null,
   "metadata": {
    "colab": {
     "base_uri": "https://localhost:8080/"
    },
    "id": "-Z1AYTSc7Fm_",
    "outputId": "3594d99b-7ba7-4252-d977-90081e15291e"
   },
   "outputs": [],
   "source": [
    "import streamlit as st\n",
    "import os\n",
    "import pandas as pd\n",
    "from resume_parser import resumeparse\n",
    "from pyresparser import ResumeParser\n",
    "import nltk\n",
    "import spacy\n",
    "import en_core_web_sm"
   ]
  },
  {
   "cell_type": "code",
   "execution_count": null,
   "metadata": {},
   "outputs": [],
   "source": [
    "def file_selector(folder_path='Resumes'):\n",
    "    filename=os.listdir(folder_path)\n",
    "    selected_filename=st.selectbox('select a file',filename)\n",
    "    return os.path.join(folder_path,selected_filename)\n",
    "filename=file_selector()\n",
    "if st.button(\"Process\"):\n",
    "st.write(\"You selected `%s` \" %filename)"
   ]
  },
  {
   "cell_type": "code",
   "execution_count": null,
   "metadata": {},
   "outputs": [],
   "source": [
    "Skills_extraction=ResumeParser(filename).get_extracted_data()\n",
    "extract_for_YoE=resumeparse.read_file(filename)"
   ]
  },
  {
   "cell_type": "code",
   "execution_count": null,
   "metadata": {},
   "outputs": [],
   "source": [
    "st.write(\"Years of Experience-----\",extract_for_YoE['total_exp'])"
   ]
  },
  {
   "cell_type": "code",
   "execution_count": null,
   "metadata": {},
   "outputs": [],
   "source": [
    "Skills_extracted=Skills_extraction['skills']"
   ]
  },
  {
   "cell_type": "code",
   "execution_count": null,
   "metadata": {
    "colab": {
     "base_uri": "https://localhost:8080/"
    },
    "id": "22VnGnabZPHJ",
    "outputId": "e28a9e7c-5dc2-479c-e944-0af651a75ce3"
   },
   "outputs": [],
   "source": []
  },
  {
   "cell_type": "code",
   "execution_count": null,
   "metadata": {
    "colab": {
     "base_uri": "https://localhost:8080/"
    },
    "id": "7OC7mqfc6eeo",
    "outputId": "73ed7268-16dd-44b5-88f4-bf3bf5b7e012"
   },
   "outputs": [],
   "source": [
    "skills_reqd_DS=['machine learning','data mining','predictive modeling', 'statistical analysis', 'data visualization', 'natural language processing', 'big data', 'data warehousing', 'sql', 'python/r programming', 'deep learning', 'artificial intelligence', 'data analytics', 'a/b testing', 'feature engineering', 'etl processes', 'time series analysis', 'regression analysis', 'cluster analysis', 'decision trees','power bi']\n",
    "skills_reqd_HR=['ats','applicant tracking systems','job postings', 'sourcing','source' ,'interviewing skills', 'hiring process', 'job descriptions', 'talent acquisition', 'diversity and inclusion', 'background checks', 'onboarding','hr consulting' ,'recruiting','recruiter','shortlisting','interviewing','end to end recruitment','deadline','reporting','hire','walk-in drives','phone interviewing',' candidate management systems','decisionmaking','management','psychology','monitoring''cms','screening resumes','lateral']\n",
    "skills_reqd_sales=['sales', 'account management', 'client relationship management', 'sales forecasting', 'sales strategy', 'sales negotiations', 'pipeline management', 'territory management', 'customer acquisition', 'sales performance', 'sales reporting','website sales','cilents','metrics','inside sales','strategic content development','presales executives','cold calling','executive',' marketing','business development','crm','market research', 'website sales', 'inside sales','negotiations','strategy','customer service']"
   ]
  },
  {
   "cell_type": "code",
   "execution_count": null,
   "metadata": {},
   "outputs": [],
   "source": [
    "Skills_extracted=[x.lower() for x in Skills_extracted]\n",
    "Skills_extracted=[num.strip(' ') for num in Skills_extracted]\n",
    "Skills_extracted=[num.strip(')') for num in Skills_extracted]\n",
    "Skills_extracted=[num.strip('(') for num in Skills_extracted]"
   ]
  },
  {
   "cell_type": "code",
   "execution_count": null,
   "metadata": {
    "colab": {
     "base_uri": "https://localhost:8080/"
    },
    "id": "rH7h07diMrYO",
    "outputId": "690ab444-9a6e-41bd-889c-a321cc780857"
   },
   "outputs": [],
   "source": [
    "res={'skills_reqd_DataScientist':[],'skills_reqd_HR':[],'skills_reqd_sales':[]}\n",
    "for i in Skills_extracted:\n",
    "    if i in skills_reqd_DS:\n",
    "        res['skills_reqd_DataScientist'].append(str(i))\n",
    "    if i in skills_reqd_HR:\n",
    "        res['skills_reqd_HR'].append(str(i))\n",
    "    if i in skills_reqd_sales:\n",
    "        res['skills_reqd_sales'].append(str(i))  "
   ]
  },
  {
   "cell_type": "code",
   "execution_count": null,
   "metadata": {
    "colab": {
     "base_uri": "https://localhost:8080/"
    },
    "id": "zqz4c8hfQYqs",
    "outputId": "8d1f049f-9e65-46f6-a450-fb1c32ef4600"
   },
   "outputs": [],
   "source": [
    "\n",
    "HR=0\n",
    "DS=0\n",
    "sales=0\n",
    "x=1\n",
    "b=\"\"\n",
    "for i,j in res.items():    \n",
    "    if x==1:\n",
    "        DS=len(j)\n",
    "    if x==2:\n",
    "        HR=len(j)\n",
    "    if x==3:\n",
    "        sales=len(j)\n",
    "    x+=1\n",
    "if (HR>DS and HR>sales):\n",
    "    b=\"HR\"    \n",
    "if (DS>HR and DS>sales):\n",
    "    b=\"DataScientist\"    \n",
    "if (sales>HR and sales>DS):\n",
    "    b=\"Sales\""
   ]
  },
  {
   "cell_type": "code",
   "execution_count": null,
   "metadata": {
    "colab": {
     "base_uri": "https://localhost:8080/"
    },
    "id": "eoBSjcNeGOqQ",
    "outputId": "dc4160cf-db99-43c5-b284-ec3a4a6d83cc"
   },
   "outputs": [],
   "source": [
    "sal_data=pd.read_csv(r\"Salary Dataset - Sheet1.csv\")\n",
    "sal_data.info()"
   ]
  },
  {
   "cell_type": "code",
   "execution_count": null,
   "metadata": {
    "colab": {
     "base_uri": "https://localhost:8080/"
    },
    "id": "9tQG2YX0G0Mt",
    "outputId": "88195367-f1c4-4918-f874-8a471947c679"
   },
   "outputs": [],
   "source": [
    "sal_data=pd.DataFrame(sal_data)"
   ]
  },
  {
   "cell_type": "code",
   "execution_count": 14,
   "metadata": {
    "id": "7_J5QC9pk3da"
   },
   "outputs": [],
   "source": [
    "def final(a,b):\n",
    "    \n",
    "    while True :\n",
    "        if a<=2 and b==\"DataScientist\":\n",
    "            color_and_shape = sal_data.loc[(sal_data['Job Role'] == \"DataScientist\") & (sal_data['YoE'] == \"0-2\")]\n",
    "            st.write(color_and_shape)\n",
    "            \n",
    "            break\n",
    "        if a<=4 and b==\"DataScientist\":\n",
    "            color_and_shape = sal_data.loc[(sal_data['Job Role'] == \"DataScientist\") & (sal_data['YoE'] == \"3-4\")]\n",
    "            st.write(color_and_shape)\n",
    "            break\n",
    "        if a<=10 and b==\"DataScientist\":\n",
    "            color_and_shape = sal_data.loc[(sal_data['Job Role'] == \"DataScientist\") & (sal_data['YoE'] == \"5-10\")]\n",
    "            st.write(color_and_shape)\n",
    "            break\n",
    "        if a>=11 and b==\"DataScientist\":\n",
    "            color_and_shape = sal_data.loc[(sal_data['Job Role'] == \"DataScientist\") & (sal_data['YoE'] == \"10+\")]\n",
    "            st.write(color_and_shape)\n",
    "            break\n",
    "        if a<=2 and b==\"HR\":\n",
    "            color_and_shape = sal_data.loc[(sal_data['Job Role'] == \"HR\") & (sal_data['YoE'] == \"0-2\")]\n",
    "            st.write(color_and_shape)\n",
    "            break\n",
    "        if a<=4 and b==\"HR\":\n",
    "            color_and_shape = sal_data.loc[(sal_data['Job Role'] == \"HR\") & (sal_data['YoE'] == \"3-4\")]\n",
    "            st.write(color_and_shape)\n",
    "            break\n",
    "        if a<=10 and b==\"HR\":\n",
    "            color_and_shape = sal_data.loc[(sal_data['Job Role'] == \"HR\") & (sal_data['YoE'] == \"5-10\")]\n",
    "            st.write(color_and_shape)\n",
    "            break\n",
    "        if a>=11 and b==\"HR\":\n",
    "            color_and_shape = sal_data.loc[(sal_data['Job Role'] == \"HR\") & (sal_data['YoE'] == \"10+\")]\n",
    "            st.write(color_and_shape)\n",
    "            break\n",
    "            \n",
    "        if a<=2 and b==\"Sales\":\n",
    "            color_and_shape = sal_data.loc[(sal_data['Job Role'] == \"Sales\") & (sal_data['YoE'] == \"0-2\")]\n",
    "            st.write(color_and_shape)\n",
    "            break\n",
    "        if a<=4 and b==\"Sales\":\n",
    "            color_and_shape = sal_data.loc[(sal_data['Job Role'] == \"Sales\") & (sal_data['YoE'] == \"3-4\")]\n",
    "            st.write(color_and_shape)\n",
    "            break\n",
    "        if a<=10 and b==\"Sales\":\n",
    "            color_and_shape = sal_data.loc[(sal_data['Job Role'] == \"Sales\") & (sal_data['YoE'] == \"5-10\")]\n",
    "            st.write(color_and_shape)\n",
    "            break\n",
    "        if a>=11 and b==\"Sales\":\n",
    "            color_and_shape = sal_data.loc[(sal_data['Job Role'] == \"Sales\") & (sal_data['YoE'] == \"10+\")]\n",
    "            st.write(color_and_shape)\n",
    "            break\n",
    "  "
   ]
  },
  {
   "cell_type": "code",
   "execution_count": 15,
   "metadata": {
    "id": "VHbZfoJdKqEa"
   },
   "outputs": [],
   "source": [
    "#OUTPUT\n",
    "final(extract_for_YoE['total_exp'],b)"
   ]
  },
  {
   "cell_type": "code",
   "execution_count": 16,
   "metadata": {
    "id": "EUmflDZMe0xd"
   },
   "outputs": [],
   "source": []
  },
  {
   "cell_type": "code",
   "execution_count": null,
   "metadata": {
    "colab": {
     "base_uri": "https://localhost:8080/"
    },
    "id": "MrMmMz4Pxf8j",
    "outputId": "b0500ebe-2697-4083-d245-5e5cfe9c2f38"
   },
   "outputs": [],
   "source": []
  },
  {
   "cell_type": "code",
   "execution_count": null,
   "metadata": {},
   "outputs": [],
   "source": []
  },
  {
   "cell_type": "code",
   "execution_count": null,
   "metadata": {},
   "outputs": [],
   "source": []
  },
  {
   "cell_type": "code",
   "execution_count": null,
   "metadata": {},
   "outputs": [],
   "source": []
  },
  {
   "cell_type": "code",
   "execution_count": null,
   "metadata": {},
   "outputs": [],
   "source": []
  },
  {
   "cell_type": "code",
   "execution_count": null,
   "metadata": {},
   "outputs": [],
   "source": []
  },
  {
   "cell_type": "code",
   "execution_count": null,
   "metadata": {},
   "outputs": [],
   "source": []
  },
  {
   "cell_type": "code",
   "execution_count": null,
   "metadata": {},
   "outputs": [],
   "source": []
  },
  {
   "cell_type": "code",
   "execution_count": null,
   "metadata": {},
   "outputs": [],
   "source": []
  },
  {
   "cell_type": "code",
   "execution_count": null,
   "metadata": {},
   "outputs": [],
   "source": []
  },
  {
   "cell_type": "code",
   "execution_count": null,
   "metadata": {},
   "outputs": [],
   "source": []
  },
  {
   "cell_type": "code",
   "execution_count": null,
   "metadata": {},
   "outputs": [],
   "source": []
  }
 ],
 "metadata": {
  "colab": {
   "provenance": []
  },
  "kernelspec": {
   "display_name": "Python 3 (ipykernel)",
   "language": "python",
   "name": "python3"
  },
  "language_info": {
   "codemirror_mode": {
    "name": "ipython",
    "version": 3
   },
   "file_extension": ".py",
   "mimetype": "text/x-python",
   "name": "python",
   "nbconvert_exporter": "python",
   "pygments_lexer": "ipython3",
   "version": "3.9.12"
  }
 },
 "nbformat": 4,
 "nbformat_minor": 1
}
